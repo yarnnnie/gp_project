{
 "cells": [
  {
   "cell_type": "markdown",
   "id": "6d23bcd0",
   "metadata": {},
   "source": [
    "### return questions in directory tree which contain 'P1' or 'Paper 1' in the name\n",
    "\n",
    "p1, paper 1, paper_1, essay, 8807_01,\n",
    "\n",
    "issue remains of I dont want the answer booklet\n",
    "issue remains of some vaguely titled files: ACJC.pdf, etc\n",
    "issue remains that sometimes the papers are separated by folder not filename: e.g. ./Paper 1/a.pdf\n",
    "\n",
    "holy fk i love chatgpt"
   ]
  },
  {
   "cell_type": "code",
   "execution_count": null,
   "id": "e23c9d13",
   "metadata": {},
   "outputs": [],
   "source": [
    "import os\n",
    "\n",
    "def filter_files(directory_path):\n",
    "    # Iterate through the directory tree\n",
    "    for foldername, subfolders, filenames in os.walk(directory_path):\n",
    "        for filename in filenames:\n",
    "            # Check if the file name contains 'P1' or 'Paper 1'\n",
    "            if ('P1' in filename or 'Paper 1' in filename or 'Paper_1' in filename or 'Essay' in filename or '8807_01' in filename) and (filename.endswith(\"pdf\")):\n",
    "                # Print or process the file as needed\n",
    "                file_path = os.path.join(foldername, filename)\n",
    "                print(f\"Found matching file: {file_path}\")\n",
    "\n",
    "# Replace 'your_directory_path' with the actual path to the directory you want to search\n",
    "directory_path = './Prelims'\n",
    "filter_files(directory_path)\n"
   ]
  },
  {
   "cell_type": "markdown",
   "id": "a181cde2",
   "metadata": {},
   "source": [
    "### now to somehow open pdf and grab questions\n",
    "\n",
    "pip install python-docx for the like 15 evil files that are somehow not pdf\n",
    "pip install PyPDF2 for for the pdfs\n",
    "\n",
    "replace pdf-files-directory with actual directory"
   ]
  },
  {
   "cell_type": "code",
   "execution_count": null,
   "id": "056a4279",
   "metadata": {},
   "outputs": [],
   "source": [
    "import os\n",
    "import PyPDF2\n",
    "\n",
    "def extract_numbered_list(pdf_path):\n",
    "    numbered_list = []\n",
    "    \n",
    "    with open(pdf_path, 'rb') as file:\n",
    "        pdf_reader = PyPDF2.PdfFileReader(file)\n",
    "        \n",
    "        for page_number in range(pdf_reader.numPages):\n",
    "            page = pdf_reader.getPage(page_number)\n",
    "            text = page.extractText()\n",
    "            \n",
    "            # Split the text into lines and filter for lines starting with numbers\n",
    "            lines = text.split('\\n')\n",
    "            lines_with_numbers = [line.strip() for line in lines if line.strip().isdigit()]\n",
    "            \n",
    "            # Add lines with numbers to the numbered_list\n",
    "            numbered_list.extend(lines_with_numbers)\n",
    "    \n",
    "    return numbered_list\n",
    "\n",
    "def process_pdf_files(pdf_files):\n",
    "    for pdf_file in pdf_files:\n",
    "        print(f\"Processing {pdf_file}...\")\n",
    "        numbered_list = extract_numbered_list(pdf_file)\n",
    "        \n",
    "        if numbered_list:\n",
    "            print(\"Numbered List:\")\n",
    "            for item in numbered_list:\n",
    "                print(item)\n",
    "        else:\n",
    "            print(\"No numbered list found.\")\n",
    "\n",
    "# REPLACE 'pdf_files_directory' with the actual path to the directory containing your PDF files\n",
    "pdf_files_directory = './Prelims/2008'\n",
    "\n",
    "# Get a list of PDF files in the specified directory\n",
    "pdf_files = [os.path.join(pdf_files_directory, file) for file in os.listdir(pdf_files_directory) if file.lower().endswith('.pdf')]\n",
    "\n",
    "if pdf_files:\n",
    "    process_pdf_files(pdf_files)\n",
    "else:\n",
    "    print(\"No PDF files found in the specified directory.\")\n"
   ]
  },
  {
   "cell_type": "code",
   "execution_count": null,
   "id": "02ec679b",
   "metadata": {},
   "outputs": [],
   "source": []
  }
 ],
 "metadata": {
  "kernelspec": {
   "display_name": "Python 3 (ipykernel)",
   "language": "python",
   "name": "python3"
  },
  "language_info": {
   "codemirror_mode": {
    "name": "ipython",
    "version": 3
   },
   "file_extension": ".py",
   "mimetype": "text/x-python",
   "name": "python",
   "nbconvert_exporter": "python",
   "pygments_lexer": "ipython3",
   "version": "3.9.13"
  }
 },
 "nbformat": 4,
 "nbformat_minor": 5
}
